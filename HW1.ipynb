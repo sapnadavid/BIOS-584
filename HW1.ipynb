{
 "cells": [
  {
   "cell_type": "markdown",
   "id": "54817454-54ea-4a75-b2c2-c72a88c3dd23",
   "metadata": {},
   "source": [
    "This is my first Jupyter notebook"
   ]
  },
  {
   "cell_type": "code",
   "execution_count": 2,
   "id": "d952fc20-f106-411e-8816-35d6e163e95b",
   "metadata": {},
   "outputs": [
    {
     "name": "stdout",
     "output_type": "stream",
     "text": [
      "My name is Sapna David.\n"
     ]
    }
   ],
   "source": [
    "print(\"My name is Sapna David.\")"
   ]
  },
  {
   "cell_type": "code",
   "execution_count": null,
   "id": "3e6fe25c-5c4f-4302-883c-0d19132b5b49",
   "metadata": {},
   "outputs": [],
   "source": []
  }
 ],
 "metadata": {
  "kernelspec": {
   "display_name": "Python 3 (ipykernel)",
   "language": "python",
   "name": "python3"
  },
  "language_info": {
   "codemirror_mode": {
    "name": "ipython",
    "version": 3
   },
   "file_extension": ".py",
   "mimetype": "text/x-python",
   "name": "python",
   "nbconvert_exporter": "python",
   "pygments_lexer": "ipython3",
   "version": "3.13.7"
  }
 },
 "nbformat": 4,
 "nbformat_minor": 5
}
