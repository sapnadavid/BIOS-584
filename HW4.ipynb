{
 "cells": [
  {
   "cell_type": "markdown",
   "metadata": {},
   "source": [
    "# HW4 (20')"
   ]
  },
  {
   "cell_type": "markdown",
   "metadata": {},
   "source": [
    "## Submit as an HTML or PDF file"
   ]
  },
  {
   "cell_type": "markdown",
   "metadata": {},
   "source": [
    "Print your name (First Name and Last Name) below."
   ]
  },
  {
   "cell_type": "code",
   "execution_count": null,
   "metadata": {},
   "outputs": [],
   "source": "Sapna David"
  },
  {
   "cell_type": "markdown",
   "metadata": {},
   "source": [
    "- Import `numpy` and `matplotlib` libraries. Pay attention to the alias."
   ]
  },
  {
   "cell_type": "code",
   "metadata": {
    "ExecuteTime": {
     "end_time": "2025-09-24T23:54:10.658450Z",
     "start_time": "2025-09-24T23:54:10.650522Z"
    }
   },
   "source": [
    "import numpy as np\n",
    "import matplotlib.pyplot as plt"
   ],
   "outputs": [],
   "execution_count": 6
  },
  {
   "cell_type": "markdown",
   "metadata": {},
   "source": [
    "## 1. For loops to count conditional statements (5')\n",
    "\n",
    "- Previously, we introduce generating normal vectors using `np.random.normal()`. \n",
    "- Set the seed value as `100`. (1')\n",
    "- Generate a random vector that follows a univariate normal distribution with a zero mean and a unit variance with a sample size of `1000` and rename it as `norm_vec`. (1')\n",
    "- Define an empty list called `eligible_ls`.\n",
    "- Write a for loop that iterate the entire 1000 samples. Append the value `True` to `eligible_ls` if each random variable lies between $-1.96$ and $1.96$, and `False` otherwise. (2')\n",
    "- Print out the first five elements of `norm_vec` and `eligible_ls`. (1')"
   ]
  },
  {
   "cell_type": "code",
   "metadata": {
    "ExecuteTime": {
     "end_time": "2025-09-25T00:08:54.669007Z",
     "start_time": "2025-09-25T00:08:54.651902Z"
    }
   },
   "source": [
    "# Write your own code\n",
    "# Step 1: Set the seed value\n",
    "np.random.seed(100)\n",
    "# Step 2: Generate random vector from N(0,1), sample size = 1000\n",
    "norm_vec = np.random.normal(loc=0, scale=1, size=1000)\n",
    "\n",
    "# Step 3: Define empty list\n",
    "eligible_ls = []\n",
    "\n",
    "# Step 4: For loop to check if each value is between -1 and 1\n",
    "for val in norm_vec:\n",
    "    if -1.96 <= val <= 1.96:     # lies between -1 and 1\n",
    "        eligible_ls.append(True)\n",
    "    else:\n",
    "        eligible_ls.append(False)\n",
    "\n",
    "# Step 5: Print first five elements\n",
    "print(\"First 5 elements of norm_vec:\", norm_vec[:5])\n",
    "print(\"First 5 elements of eligible_ls:\", eligible_ls[:5])\n"
   ],
   "outputs": [
    {
     "name": "stdout",
     "output_type": "stream",
     "text": [
      "First 5 elements of norm_vec: [-1.74976547  0.3426804   1.1530358  -0.25243604  0.98132079]\n",
      "First 5 elements of eligible_ls: [True, True, True, True, True]\n"
     ]
    }
   ],
   "execution_count": 12
  },
  {
   "cell_type": "markdown",
   "metadata": {},
   "source": [
    "## 2. This is a follow-up to question 1. (5')\n",
    "\n",
    "- If you run ```np.sum(list_eligible)```, what value is Python assigning to ```True``` or ```False``` elements in the sum? Write you answer as a comment. (1')\n",
    "- Assign a variable `eligible_sum` to the previous output.\n",
    "- Print out the type of the output above. (1')\n",
    "- Convert it to an integer using `int` instead of the previous type. Print out the corresponding value and type. (1')\n",
    "- Calculate the sample size of numbers who are outside $[-1.96, 1.96]$ using at least **two** methods. (2')\n",
    "    - You can use subtraction directly.\n",
    "    - Convert `True` and `False` to $1$ and $0$, respectively; Reverse $0$ and $1$ and calculate the corresponding sum."
   ]
  },
  {
   "cell_type": "code",
   "metadata": {
    "ExecuteTime": {
     "end_time": "2025-09-25T00:12:25.807508Z",
     "start_time": "2025-09-25T00:12:25.775695Z"
    }
   },
   "source": [
    "# Write your own code\n",
    "# If you run np.sum(eligible_ls), Python assigns: True = 1 and False = 0\n",
    "eligible_sum = np.sum(eligible_ls)\n",
    "print(\"eligible_sum:\", eligible_sum)\n",
    "print(\"Type of eligible_sum:\", type(eligible_sum))\n",
    "eligible_sum_int = int(eligible_sum)\n",
    "print(\"As integer:\", eligible_sum_int, \"Type:\", type(eligible_sum_int))\n",
    "# Method 1: Total sample size - number inside\n",
    "outside_count1 = len(norm_vec) - eligible_sum_int\n",
    "print(\"Outside count (method 1):\", outside_count1)\n",
    "\n",
    "# Method 2: Reverse True/False and sum\n",
    "# Convert True→0 and False→1 by using \"not\"\n",
    "outside_count2 = np.sum([int(not x) for x in eligible_ls])\n",
    "print(\"Outside count (method 2):\", outside_count2)"
   ],
   "outputs": [
    {
     "name": "stdout",
     "output_type": "stream",
     "text": [
      "eligible_sum: 937\n",
      "Type of eligible_sum: <class 'numpy.int64'>\n",
      "As integer: 937 Type: <class 'int'>\n",
      "Outside count (method 1): 63\n",
      "Outside count (method 2): 63\n"
     ]
    }
   ],
   "execution_count": 13
  },
  {
   "cell_type": "markdown",
   "metadata": {},
   "source": [
    "## 3. For-Loops + Plotting (5')\n",
    "\n",
    "- Create an array of x-values with all the integers between 1 and 5, denoted as `x_vec`. Do not manually write out $1,2,\\cdots,5$. (1')\n",
    "- Create a vector ```y1_vec``` where each element is computed from the formula $ y_1 = x^2 + x^{-2}$. (1')\n",
    "- Create a vector ```y2_vec``` where each element is computed from the formula $ y_2 = \\log(x)$. (1')\n",
    "- Create an object ```list_vectors``` with elements ```vec_y1``` and ```vec_y2```.\n",
    "- Create a for-loop that goes through each element of ```list_vectors``` and plots each list of $y$ values against $x$. (2')\n",
    "\n",
    "Note: The final output should be a 2 dimensional scatter plot with two sets of points, with the $y_1$ and $y_2$ on the vertical axis, and the $x$ values on the horizontal axis. X-axes are labelled as `x`. Y-axes are labelled as `y1` and `y2`, respectively. Titles are labelled as `Scatterplot 1` and `Scatterplot 2`, respectively. Those labeling process should be written inside the for loop for automation workflows."
   ]
  },
  {
   "cell_type": "code",
   "metadata": {
    "ExecuteTime": {
     "end_time": "2025-09-25T00:19:16.154703Z",
     "start_time": "2025-09-25T00:19:15.578532Z"
    }
   },
   "source": [
    "# Write your own code\n",
    "x_vec = np.arange(1, 6, dtype=float)   # integers 1 to 5\n",
    "\n",
    "y1_vec = x_vec**2 + x_vec**-2\n",
    "\n",
    "y2_vec = np.log(x_vec)\n",
    "\n",
    "list_vectors = [y1_vec, y2_vec]\n",
    "\n",
    "for i, y_vec in enumerate(list_vectors, start=1):\n",
    "    plt.scatter(x_vec, y_vec)\n",
    "    plt.xlabel(\"x\")              # x-axis label\n",
    "    plt.ylabel(f\"y{i}\")          # y-axis label (y1 or y2)\n",
    "    plt.title(f\"Scatterplot {i}\") # plot title\n",
    "    plt.show()\n",
    "\n"
   ],
   "outputs": [
    {
     "data": {
      "text/plain": [
       "<Figure size 640x480 with 1 Axes>"
      ],
      "image/png": "[encoded data removed]"
     },
     "metadata": {},
     "output_type": "display_data"
    },
    {
     "data": {
      "text/plain": [
       "<Figure size 640x480 with 1 Axes>"
      ],
      "image/png": "[encoded data removed]"
     },
     "metadata": {},
     "output_type": "display_data"
    }
   ],
   "execution_count": 16
  },
  {
   "cell_type": "markdown",
   "metadata": {},
   "source": [
    "## 4. While Loops (5')\n",
    "\n",
    "Write a program to generate the Fibonacci sequence between $0$ and $1000$.<br>\n",
    "A Fibonacci sequence is a sequence in which each element is the sum of the two elements that precede it.\n",
    "Define initial values `a=0, b=1`, then the next value is `a+b=1`, so on.\n",
    "The first six values of a Fibonacci sequence given the above initialization is `0,1,1,2,3,5`.\n",
    "\n",
    "- Create a list `f_ls` that saves the first two initialized values $0$ and $1$.\n",
    "- Create a `count_id` that can evaluate the last element of the list `f_ls` and define the value as 1. \n",
    "    - Q: Why do we initialize `count_id` as 1 here?\n",
    "    - (**Note for TA:** (1') for initialization `f_ls` and `count_id`)\n",
    "- The condition for the while loop is to evaluate whether the last element of `f_ls` is smaller than $1000$. (1')\n",
    "- If we pass the while condition, we use the `append` function to compute the next element by summing up the previous two elements. (1')\n",
    "- Remember to increase `count_id` by 1. (1')\n",
    "- Print out the final list. Make sure the largest value is smaller than $1000$. (1')"
   ]
  },
  {
   "cell_type": "code",
   "metadata": {
    "ExecuteTime": {
     "end_time": "2025-09-25T00:15:18.893247Z",
     "start_time": "2025-09-25T00:15:18.864882Z"
    }
   },
   "source": [
    "# Write your own code\n",
    "f_ls = [0, 1]\n",
    "\n",
    "count_id = 1\n",
    "# We initialize count_id as 1 because it points to the index of the second element, allowing us to access the last two elements for summation in the loop.\n",
    "\n",
    "while f_ls[-1] < 1000:\n",
    "    next_val = f_ls[count_id] + f_ls[count_id - 1]  # sum of last two elements\n",
    "    if next_val >= 1000:  # ensure the largest value stays below 1000\n",
    "        break\n",
    "    f_ls.append(next_val)\n",
    "    count_id += 1  # increase counter to point to the new last element\n",
    "\n",
    "print(\"Fibonacci sequence below 1000:\", f_ls)"
   ],
   "outputs": [
    {
     "name": "stdout",
     "output_type": "stream",
     "text": [
      "Fibonacci sequence below 1000: [0, 1, 1, 2, 3, 5, 8, 13, 21, 34, 55, 89, 144, 233, 377, 610, 987]\n"
     ]
    }
   ],
   "execution_count": 14
  }
 ],
 "metadata": {
  "kernelspec": {
   "display_name": "Python 3 (ipykernel)",
   "language": "python",
   "name": "python3"
  },
  "language_info": {
   "codemirror_mode": {
    "name": "ipython",
    "version": 3
   },
   "file_extension": ".py",
   "mimetype": "text/x-python",
   "name": "python",
   "nbconvert_exporter": "python",
   "pygments_lexer": "ipython3",
   "version": "3.11.4"
  }
 },
 "nbformat": 4,
 "nbformat_minor": 4
}
