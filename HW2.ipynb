{
 "cells": [
  {
   "cell_type": "markdown",
   "id": "3acfb3c5-ce4b-4857-af74-0eb13f316abb",
   "metadata": {},
   "source": [
    "### Please submit as an HTML or PDF file\n",
    "\n",
    "Print your name (First Name Last Name) below"
   ]
  },
  {
   "cell_type": "code",
   "id": "b41fa10b-6a6c-4b5d-b895-091b9159a4ac",
   "metadata": {
    "ExecuteTime": {
     "end_time": "2025-09-07T22:28:32.089978Z",
     "start_time": "2025-09-07T22:28:32.072831Z"
    }
   },
   "source": "'Sapna David'",
   "outputs": [
    {
     "data": {
      "text/plain": [
       "'Sapna David'"
      ]
     },
     "execution_count": 4,
     "metadata": {},
     "output_type": "execute_result"
    }
   ],
   "execution_count": 4
  },
  {
   "cell_type": "markdown",
   "id": "d4ea6acb-6d03-43d4-89bd-545a324de185",
   "metadata": {},
   "source": [
    "## 1. Prerequisites\n",
    "* Install `openpyxl` package in PyCharm. (1') <br>\n",
    "* Import `pandas` and `matplotlib` packages. (1')\n",
    "    * For `pandas`, rename it as `pd`.\n",
    "    * For `matplotlib`, find its `pyplot` module and rename it as `plt`.\n",
    "\n"
   ]
  },
  {
   "metadata": {
    "ExecuteTime": {
     "end_time": "2025-09-07T22:32:12.592798Z",
     "start_time": "2025-09-07T22:32:04.689895Z"
    }
   },
   "cell_type": "code",
   "source": [
    "import pandas as pd\n",
    "import matplotlib.pyplot as plt"
   ],
   "id": "f3d8e8ad36fe5f56",
   "outputs": [],
   "execution_count": 13
  },
  {
   "cell_type": "markdown",
   "id": "12536263-e8c5-4093-b4dd-c02f0a3db83f",
   "metadata": {},
   "source": [
    "* Take a snapshot and attach it below to show that you have `openpyxl` properly installed. (1')"
   ]
  },
  {
   "cell_type": "markdown",
   "id": "615b7298-3f86-4a74-942c-d276aea6de26",
   "metadata": {},
   "source": []
  },
  {
   "cell_type": "code",
   "id": "aad9339b-474a-45c2-94d4-225b41309ef6",
   "metadata": {
    "ExecuteTime": {
     "end_time": "2025-09-07T22:28:32.156637Z",
     "start_time": "2025-09-07T22:28:32.148171Z"
    }
   },
   "source": [
    "# Note: you do not need to explicitly import openpyxl because it is loaded in the backend once you import pandas."
   ],
   "outputs": [],
   "execution_count": 5
  },
  {
   "cell_type": "markdown",
   "id": "ad2bb025-cd91-46cc-98ee-c5f1282f58e7",
   "metadata": {},
   "source": [
    "## 2. Overview on the Dataset\n",
    "\n",
    "Open `PTSD dataset.xlsx` in the \"data\" folder\n",
    "\n",
    "* Read it as a pandas object called `ptsd_df`, choose the sheet named `main_dataset`. (1')\n",
    "* Note: This is a clinical dataset to study the PTSD from my past collaboration. The PI, Dr. Boadie Dunlop has kindly agreed to share it with me for educational purposes. For more information, check the paper below.\n",
    "    * [Effect of agreement between clinician-rated and patient-reported PTSD symptoms on intensive outpatient treatment outcomes](https://doi.org/10.1016/j.psychres.2024.116287)"
   ]
  },
  {
   "cell_type": "code",
   "id": "183bf300-35d7-43aa-9532-68c92794149e",
   "metadata": {
    "ExecuteTime": {
     "end_time": "2025-09-07T22:43:48.662985Z",
     "start_time": "2025-09-07T22:43:26.808021Z"
    }
   },
   "source": [
    "\n",
    "\n",
    "ptsd_df = pd.read_excel(r\"/Users/sapnadavid/Documents/GitHub/BIOS-584/PTSD dataset.xlsx\", sheet_name=\"main_dataset\")\n"
   ],
   "outputs": [],
   "execution_count": 23
  },
  {
   "cell_type": "markdown",
   "id": "45e80d3b-1912-4adb-bf8e-6a3a3353da64",
   "metadata": {},
   "source": [
    "* Find and print the number of rows and columns. (1')\n",
    "* Please fill in the blank: This dataset contains ( ) rows and ( ) columns."
   ]
  },
  {
   "cell_type": "code",
   "id": "6413ba89-bd19-48d0-8d41-c69a2167bfc9",
   "metadata": {
    "ExecuteTime": {
     "end_time": "2025-09-07T22:43:57.183570Z",
     "start_time": "2025-09-07T22:43:57.169625Z"
    }
   },
   "source": [
    "rows, cols = ptsd_df.shape\n",
    "print(f\"This dataset contains {rows} rows and {cols} columns.\")"
   ],
   "outputs": [
    {
     "name": "stdout",
     "output_type": "stream",
     "text": [
      "This dataset contains 483 rows and 439 columns.\n"
     ]
    }
   ],
   "execution_count": 24
  },
  {
   "cell_type": "markdown",
   "id": "07baf8e0-bdf1-42aa-a76e-da8fd946f4b9",
   "metadata": {},
   "source": [
    "* Find the variable names of the dataset, assign it to a variable name `ptsd_col_name`. (1')\n",
    "* Print out the type of the variable `ptsd_col_name`. (1')\n",
    "* Convert it to a list without changing the variable name and confirm the type as a list. (2')\n",
    "* Print out `ptsd_col_name`. (1')\n",
    "* Find and print out the first item of the `ptsd_col_name`. (1')\n",
    "* Find and print out the index corresponding to the variable `pcl5_score_intake`. (1')"
   ]
  },
  {
   "metadata": {
    "ExecuteTime": {
     "end_time": "2025-09-07T22:51:44.552056Z",
     "start_time": "2025-09-07T22:51:42.227642Z"
    }
   },
   "cell_type": "code",
   "source": [
    "# Step 0: Read the Excel file (adjust path as needed)\n",
    "ptsd_df = pd.read_excel(r\"/Users/sapnadavid/Documents/GitHub/BIOS-584/PTSD dataset.xlsx\", sheet_name=\"main_dataset\")\n",
    "\n",
    "# 1. Find the variable names and assign to ptsd_col_name\n",
    "ptsd_col_name = ptsd_df.columns\n",
    "\n",
    "# 2. Print out the type of ptsd_col_name\n",
    "print(\"Type before converting:\", type(ptsd_col_name))\n",
    "\n",
    "# 3. Convert to a list without changing the variable name\n",
    "ptsd_col_name = list(ptsd_col_name)\n",
    "\n",
    "# Confirm type\n",
    "print(\"Type after converting to list:\", type(ptsd_col_name))\n",
    "\n",
    "# 4. Print out ptsd_col_name\n",
    "print(\"Column names:\", ptsd_col_name)\n",
    "\n",
    "# 5. Find and print the first item of ptsd_col_name\n",
    "print(\"First column name:\", ptsd_col_name[0])\n",
    "\n",
    "# 6. Find and print the index of 'pcl5_score_intake'\n",
    "index_pcl5 = ptsd_col_name.index('pcl5_score_intake')\n",
    "print(\"Index of 'pcl5_score_intake':\", index_pcl5)"
   ],
   "id": "b583db013872d3c6",
   "outputs": [
    {
     "name": "stdout",
     "output_type": "stream",
     "text": [
      "Type before converting: <class 'pandas.core.indexes.base.Index'>\n",
      "Type after converting to list: <class 'list'>\n",
      "Column names: ['record_id', 'ptsdpresent_caps', 'caps_minuspcl', 'caps_minuspcl_code', 'caps_intake', 'pcl5_score_intake', 'pcl5month_score.baseline', 'pcl5week_score.completion', 'pcl5month_score.3_month_follow_up', 'mdd_code', 'ctq_total_score', 'sexual_trauma', 'sud_code', 'phq9_score_intake', 'phq9_score.baseline', 'age_iop', 'gender_code', 'race_code', 'ethnicity_code', 'sexualorient_code', 'education_code', 'employment_code', 'rank_code', 'branch_code', 'total_ptsd_sx_caps', 'caps_1', 'caps_1_sev', 'caps_2', 'caps_2_sev', 'caps_3', 'caps_3_sev', 'caps_4', 'caps_4_sev', 'caps_5', 'caps_5_sev', 'b_sx_caps', 'b_sev_caps', 'criterion_b', 'caps_6', 'caps_6_sev', 'caps_7', 'caps_7_sev', 'c_sx_caps', 'c_sev_caps', 'criterion_c', 'caps_8', 'caps_8_sev', 'caps_9', 'caps_9_sev', 'caps_10', 'caps_10_sev', 'caps_11', 'caps_11_sev', 'caps_12', 'caps_12_sev', 'caps_13', 'caps_13_sev', 'caps_14', 'caps_14_sev', 'd_sx_caps', 'd_sev_caps', 'criterion_d', 'caps_15', 'caps_15_sev', 'caps_16', 'caps_16_sev', 'caps_17', 'caps_17_sev', 'caps_18', 'caps_18_sev', 'caps_19', 'caps_19_sev', 'caps_20', 'caps_20_sev', 'e_sx_caps', 'e_sev_caps', 'criterion_e', 'pcl5_1_intake', 'pcl5_2_intake', 'pcl5_3_intake', 'pcl5_4_intake', 'pcl5_5_intake', 'pcl5_6_intake', 'pcl5_7_intake', 'pcl5_8_intake', 'pcl5_9_intake', 'pcl5_10_intake', 'pcl5_11_intake', 'pcl5_12_intake', 'pcl5_13_intake', 'pcl5_14_intake', 'pcl5_15_intake', 'pcl5_16_intake', 'pcl5_17_intake', 'pcl5_18_intake', 'pcl5_19_intake', 'pcl5_20_intake', 'pcl_5_complete_intake', 'diagnosisa_caps_dissociative_sx', 'diagnosisb_caps_21_21_delayed_onset', 'caps_22_criterion_f', 'caps_23', 'caps_23_sev', 'caps_24', 'caps_24_sev', 'caps_25', 'caps_25_sev', 'g_sx_caps', 'g_sev_caps', 'criterion_g', 'caps_26', 'caps_27', 'caps_28', 'caps_29', 'caps_29_sev', 'caps_30', 'caps_30_sev', 'capscomplete', 'caps_method', 'caps_complete', 'PresentingComplaint', 'TargetTrauma', 'HistoryofPsychiatricDiagnoses', 'Currentpsychiatrictreatment', 'Pastpsychiatrictreatment', 'CriteriaA', 'Trauma1LEC', 'Trauma1Military', 'Trauma1ExpWit', 'Trauma1Suicide', 'Trauma2LEC', 'Trauma2Military', 'Trauma2ExpWit', 'Trauma2Suicide', 'Trauma3LEC', 'Trauma3Military', 'Trauma3ExpWit', 'Trauma3Suicide', 'TraumaNotes', 'pcl5_1w.completion', 'pcl5_2w.completion', 'pcl5_3w.completion', 'pcl5_4w.completion', 'pcl5_5w.completion', 'pcl5_6w.completion', 'pcl5_7w.completion', 'pcl5_8w.completion', 'pcl5_9w.completion', 'pcl5_10w.completion', 'pcl5_11w.completion', 'pcl5_12w.completion', 'pcl5_13w.completion', 'pcl5_14w.completion', 'pcl5_15w.completion', 'pcl5_16w.completion', 'pcl5_17w.completion', 'pcl5_18w.completion', 'pcl5_19w.completion', 'pcl5_20w.completion', 'pcl5w_complete', 'pcl5_1.12_month_follow_up', 'pcl5_2.12_month_follow_up', 'pcl5_3.12_month_follow_up', 'pcl5_4.12_month_follow_up', 'pcl5_5.12_month_follow_up', 'pcl5_6.12_month_follow_up', 'pcl5_7.12_month_follow_up', 'pcl5_8.12_month_follow_up', 'pcl5_9.12_month_follow_up', 'pcl5_10.12_month_follow_up', 'pcl5_11.12_month_follow_up', 'pcl5_12.12_month_follow_up', 'pcl5_13.12_month_follow_up', 'pcl5_14.12_month_follow_up', 'pcl5_15.12_month_follow_up', 'pcl5_16.12_month_follow_up', 'pcl5_17.12_month_follow_up', 'pcl5_18.12_month_follow_up', 'pcl5_19.12_month_follow_up', 'pcl5_20.12_month_follow_up', 'pcl_5_complete.12_month_follow_up', 'phq_date.12_month_follow_up', 'phq_1.12_month_follow_up', 'phq_2.12_month_follow_up', 'phq_3.12_month_follow_up', 'phq_4.12_month_follow_up', 'phq_5.12_month_follow_up', 'phq_6.12_month_follow_up', 'phq_7.12_month_follow_up', 'phq_8.12_month_follow_up', 'phq_9.12_month_follow_up', 'phq_10.12_month_follow_up', 'phq_9_complete.12_month_follow_up', 'phq9_score.12_month_follow_up', 'pcl5month_score.12_month_follow_up', 'pcl5_1.3_month_follow_up', 'pcl5_2.3_month_follow_up', 'pcl5_3.3_month_follow_up', 'pcl5_4.3_month_follow_up', 'pcl5_5.3_month_follow_up', 'pcl5_6.3_month_follow_up', 'pcl5_7.3_month_follow_up', 'pcl5_8.3_month_follow_up', 'pcl5_9.3_month_follow_up', 'pcl5_10.3_month_follow_up', 'pcl5_11.3_month_follow_up', 'pcl5_12.3_month_follow_up', 'pcl5_13.3_month_follow_up', 'pcl5_14.3_month_follow_up', 'pcl5_15.3_month_follow_up', 'pcl5_16.3_month_follow_up', 'pcl5_17.3_month_follow_up', 'pcl5_18.3_month_follow_up', 'pcl5_19.3_month_follow_up', 'pcl5_20.3_month_follow_up', 'pcl_5_complete.3_month_follow_up', 'phq_date.3_month_follow_up', 'phq_1.3_month_follow_up', 'phq_2.3_month_follow_up', 'phq_3.3_month_follow_up', 'phq_4.3_month_follow_up', 'phq_5.3_month_follow_up', 'phq_6.3_month_follow_up', 'phq_7.3_month_follow_up', 'phq_8.3_month_follow_up', 'phq_9.3_month_follow_up', 'phq_10.3_month_follow_up', 'phq_9_complete.3_month_follow_up', 'phq9_score.3_month_follow_up', 'pcl5_1.6_month_follow_up', 'pcl5_2.6_month_follow_up', 'pcl5_3.6_month_follow_up', 'pcl5_4.6_month_follow_up', 'pcl5_5.6_month_follow_up', 'pcl5_6.6_month_follow_up', 'pcl5_7.6_month_follow_up', 'pcl5_8.6_month_follow_up', 'pcl5_9.6_month_follow_up', 'pcl5_10.6_month_follow_up', 'pcl5_11.6_month_follow_up', 'pcl5_12.6_month_follow_up', 'pcl5_13.6_month_follow_up', 'pcl5_14.6_month_follow_up', 'pcl5_15.6_month_follow_up', 'pcl5_16.6_month_follow_up', 'pcl5_17.6_month_follow_up', 'pcl5_18.6_month_follow_up', 'pcl5_19.6_month_follow_up', 'pcl5_20.6_month_follow_up', 'pcl_5_complete.6_month_follow_up', 'phq_date.6_month_follow_up', 'phq_1.6_month_follow_up', 'phq_2.6_month_follow_up', 'phq_3.6_month_follow_up', 'phq_4.6_month_follow_up', 'phq_5.6_month_follow_up', 'phq_6.6_month_follow_up', 'phq_7.6_month_follow_up', 'phq_8.6_month_follow_up', 'phq_9.6_month_follow_up', 'phq_10.6_month_follow_up', 'phq_9_complete.6_month_follow_up', 'phq9_score.6_month_follow_up', 'pcl5month_score.6_month_follow_up', 'pcl5_1.baseline', 'pcl5_2.baseline', 'pcl5_3.baseline', 'pcl5_4.baseline', 'pcl5_5.baseline', 'pcl5_6.baseline', 'pcl5_7.baseline', 'pcl5_8.baseline', 'pcl5_9.baseline', 'pcl5_10.baseline', 'pcl5_11.baseline', 'pcl5_12.baseline', 'pcl5_13.baseline', 'pcl5_14.baseline', 'pcl5_15.baseline', 'pcl5_16.baseline', 'pcl5_17.baseline', 'pcl5_18.baseline', 'pcl5_19.baseline', 'pcl5_20.baseline', 'pcl_5_complete.baseline', 'phq_date.baseline', 'phq_1.baseline', 'phq_2.baseline', 'phq_3.baseline', 'phq_4.baseline', 'phq_5.baseline', 'phq_6.baseline', 'phq_7.baseline', 'phq_8.baseline', 'phq_9.baseline', 'phq_10.baseline', 'phq_9_complete.baseline', 'pcl5_1.completion', 'pcl5_2.completion', 'pcl5_3.completion', 'pcl5_4.completion', 'pcl5_5.completion', 'pcl5_6.completion', 'pcl5_7.completion', 'pcl5_8.completion', 'pcl5_9.completion', 'pcl5_10.completion', 'pcl5_11.completion', 'pcl5_12.completion', 'pcl5_13.completion', 'pcl5_14.completion', 'pcl5_15.completion', 'pcl5_16.completion', 'pcl5_17.completion', 'pcl5_18.completion', 'pcl5_19.completion', 'pcl5_20.completion', 'pcl_5_complete.completion', 'phq_date.completion', 'phq_1.completion', 'phq_2.completion', 'phq_3.completion', 'phq_4.completion', 'phq_5.completion', 'phq_6.completion', 'phq_7.completion', 'phq_8.completion', 'phq_9.completion', 'phq_10.completion', 'phq_9_complete.completion', 'phq9_score.completion', 'pcl5month_score.completion', 'height', 'weight', 'bmi', 'primary_therapy6', 'iop_track', 'tbi_patient', 'care_type', 'telehealth_location', 'rtms_patient', 'tdcs_patient', 'icf', 'adl_2_complete', 'childtra_1', 'childtra_2', 'childtra_3', 'childtra_4', 'childtra_5', 'childtra_6', 'childtra_7', 'childtra_8', 'childtra_9', 'childtra_10', 'childtra_11', 'childtra_12', 'childtra_13', 'childtra_14', 'childtra_15', 'childtra_16', 'childtra_17', 'childtra_18', 'childtra_19', 'childtra_20', 'childtra_21', 'childtra_22', 'childtra_23', 'childtra_24', 'childtra_25', 'childtra_26', 'childtra_27', 'childtra_28', 'ctq_complete', 'phq_date_intake', 'phq_1_intake', 'phq_2_intake', 'phq_3_intake', 'phq_4_intake', 'phq_5_intake', 'phq_6_intake', 'phq_7_intake', 'phq_8_intake', 'phq_9_intake', 'phq_10_intake', 'phq_9_complete_intake', 'ctq_emo_score', 'ctq_phys_score', 'ctq_sexabuse_score', 'ctq_emoneglect_score', 'ctq_physneglect_score', 'ctq_emot_cat', 'ctq_phys_cat', 'ctq_sex_cat', 'ctq_emot_neg_cat', 'ctq_phys_neg_cat', 'survey_date2', 'survey_date4', 'survey_date7', 'survey_date9', 'pcl5_score2', 'pcl5_score4', 'pcl5_score7', 'pcl5_score9', 'phq9_score2', 'phq9_score4', 'phq9_score7', 'phq9_score9', 'primary_diagnosis_icd', 'secondary_icd_dx_code_1', 'secondary_icd_dx_code_2', 'secondary_icd_dx_code_3', 'secondary_icd_dx_code_4', 'secondary_icd_dx_code_5', 'secondary_icd_dx_code_6', 'secondary_icd_dx_code_7', 'secondary_icd_dx_code_8', 'secondary_icd_dx_code_9', 'secondary_icd_dx_code_10', 'fullcaps', 'gender_src', 'sexual_orientation_src', 'employment_status', 'birth_year', 'marital_status', 'number_of_children', 'branch_src', 'military_service_status_src', 'rank_pay_grade', 'discharge_status', 'state_code', 'va_benefits_indicator', 'wwp_alumni_indicator', 'army', 'airforce', 'marines', 'navy', 'coastguard', 'nationalguard', 'reserve']\n",
      "First column name: record_id\n",
      "Index of 'pcl5_score_intake': 5\n"
     ]
    }
   ],
   "execution_count": 26
  },
  {
   "cell_type": "code",
   "execution_count": null,
   "id": "94959a05-15c5-4c4a-a500-7c4f8f79b755",
   "metadata": {},
   "outputs": [],
   "source": []
  },
  {
   "cell_type": "markdown",
   "id": "68429dfc-d025-4ae4-bf7b-8a1ee0a3a79c",
   "metadata": {},
   "source": [
    "## 3. Descriptive Statistics and Visualization\n",
    "\n",
    "* Compute and print out descriptive statistics of `pcl5_score_intake`.\n",
    "    * Directly type the name such as `df[\"col_name\"]`. (1')\n",
    "    * Use `ptsd_col_name` with an index to extract the column `pcl5_score_intake`. (1')"
   ]
  },
  {
   "metadata": {
    "ExecuteTime": {
     "end_time": "2025-09-07T23:18:34.407181Z",
     "start_time": "2025-09-07T23:18:34.033098Z"
    }
   },
   "cell_type": "code",
   "source": [
    "# Using the column name directly\n",
    "print(\"Descriptive statistics using direct column name:\")\n",
    "print(ptsd_df[\"pcl5_score_intake\"].describe())\n",
    "\n",
    "# Using ptsd_col_name with an index\n",
    "# Find the index first\n",
    "index_pcl5 = ptsd_col_name.index('pcl5_score_intake')\n",
    "\n",
    "# Extract using ptsd_col_name list\n",
    "col_name_via_index = ptsd_col_name[index_pcl5]\n",
    "print(\"\\nDescriptive statistics using ptsd_col_name with index:\")\n",
    "print(ptsd_df[col_name_via_index].describe())"
   ],
   "id": "8f624640819fc7a0",
   "outputs": [
    {
     "name": "stdout",
     "output_type": "stream",
     "text": [
      "Descriptive statistics using direct column name:\n",
      "count    483.000000\n",
      "mean      53.612836\n",
      "std       14.165925\n",
      "min        8.000000\n",
      "25%       44.000000\n",
      "50%       54.000000\n",
      "75%       64.000000\n",
      "max       80.000000\n",
      "Name: pcl5_score_intake, dtype: float64\n",
      "\n",
      "Descriptive statistics using ptsd_col_name with index:\n",
      "count    483.000000\n",
      "mean      53.612836\n",
      "std       14.165925\n",
      "min        8.000000\n",
      "25%       44.000000\n",
      "50%       54.000000\n",
      "75%       64.000000\n",
      "max       80.000000\n",
      "Name: pcl5_score_intake, dtype: float64\n"
     ]
    }
   ],
   "execution_count": 27
  },
  {
   "cell_type": "markdown",
   "id": "893c3559-d86a-4d09-905c-6676d067052f",
   "metadata": {},
   "source": [
    "* Generate a scatter plot that shows `pcl5_score_intake` in the y-axis and `age_iop` in the x-axis.\n",
    "    * `pcl5_score_intake` refers to \"PCL5 Score at Intake\", while `age_iop` refers to \"Age\".\n",
    "    * Extract columns to create two variables named `age` and `pcl5_score_intake`, respectively. (1')\n",
    "    * Generate the scatter plot. (1')\n",
    "    * Label both x and y axes properly and the title as \"Scatter Plot\". (1')\n",
    "    * Show the plot. (1')"
   ]
  },
  {
   "cell_type": "code",
   "id": "e85d6090-4c62-4299-a2ef-034bf494498a",
   "metadata": {
    "ExecuteTime": {
     "end_time": "2025-09-07T23:19:35.333120Z",
     "start_time": "2025-09-07T23:19:34.541092Z"
    }
   },
   "source": [
    "\n",
    "\n",
    "# Extract columns to create two variables\n",
    "age = ptsd_df[\"age_iop\"]                 # Age\n",
    "pcl5_score_intake = ptsd_df[\"pcl5_score_intake\"]  # PCL5 Score at Intake\n",
    "\n",
    "# Generate scatter plot\n",
    "plt.scatter(age, pcl5_score_intake, color='blue', alpha=0.7)\n",
    "\n",
    "# Label axes and title\n",
    "plt.xlabel(\"Age\")                       # x-axis label\n",
    "plt.ylabel(\"PCL5 Score at Intake\")      # y-axis label\n",
    "plt.title(\"Scatter Plot\")               # title\n",
    "\n",
    "# Show plot\n",
    "plt.show()"
   ],
   "outputs": [
    {
     "data": {
      "text/plain": [
       "<Figure size 640x480 with 1 Axes>"
      ],
      "image/png": "[encoded data removed]"
     },
     "metadata": {},
     "output_type": "display_data"
    }
   ],
   "execution_count": 29
  },
  {
   "cell_type": "markdown",
   "id": "f4378f3b-7bb2-4018-87ed-e23213b2246c",
   "metadata": {},
   "source": [
    "* Provide a frequency table of `gender_code`. (1')"
   ]
  },
  {
   "metadata": {
    "ExecuteTime": {
     "end_time": "2025-09-07T23:21:20.966Z",
     "start_time": "2025-09-07T23:21:20.904325Z"
    }
   },
   "cell_type": "code",
   "source": [
    "gender_freq = ptsd_df[\"gender_code\"].value_counts()\n",
    "print(gender_freq)"
   ],
   "id": "2012bc963dbb91c6",
   "outputs": [
    {
     "name": "stdout",
     "output_type": "stream",
     "text": [
      "gender_code\n",
      "1    290\n",
      "2    193\n",
      "Name: count, dtype: int64\n"
     ]
    }
   ],
   "execution_count": 30
  },
  {
   "cell_type": "markdown",
   "id": "ce5975b3-e8d9-4935-a691-e42640364177",
   "metadata": {},
   "source": [
    "* Provide a contingency table between `gender_code` and `race_code`. (1')"
   ]
  },
  {
   "cell_type": "code",
   "id": "8e06f010-9850-4697-ab69-bdcf16034ea5",
   "metadata": {
    "ExecuteTime": {
     "end_time": "2025-09-07T23:22:15.462758Z",
     "start_time": "2025-09-07T23:22:15.164642Z"
    }
   },
   "source": [
    "contingency_table = pd.crosstab(ptsd_df[\"gender_code\"], ptsd_df[\"race_code\"])\n",
    "print(contingency_table)"
   ],
   "outputs": [
    {
     "name": "stdout",
     "output_type": "stream",
     "text": [
      "race_code      1   2  3  4  5   6\n",
      "gender_code                      \n",
      "1            194  58  4  0  5  29\n",
      "2             76  86  6  3  6  16\n"
     ]
    }
   ],
   "execution_count": 31
  },
  {
   "cell_type": "markdown",
   "id": "677ebdbc-b7ec-40a9-8f65-ed21bb80894f",
   "metadata": {},
   "source": [
    "Save it as `HW2.html` or `HW2.pdf` and upload it to Canvas."
   ]
  }
 ],
 "metadata": {
  "kernelspec": {
   "display_name": "Python 3 (ipykernel)",
   "language": "python",
   "name": "python3"
  },
  "language_info": {
   "codemirror_mode": {
    "name": "ipython",
    "version": 3
   },
   "file_extension": ".py",
   "mimetype": "text/x-python",
   "name": "python",
   "nbconvert_exporter": "python",
   "pygments_lexer": "ipython3",
   "version": "3.11.4"
  }
 },
 "nbformat": 4,
 "nbformat_minor": 5
}
