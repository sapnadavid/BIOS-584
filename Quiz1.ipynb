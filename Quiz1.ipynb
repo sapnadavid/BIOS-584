{
 "cells": [
  {
   "cell_type": "markdown",
   "id": "78bd4c2e-7a41-4231-ba94-dbe424fe1ba4",
   "metadata": {},
   "source": [
    "Sapna David"
   ]
  },
  {
   "cell_type": "code",
   "execution_count": 6,
   "id": "2ead4ce4-8ccb-4a39-8175-d02b9ef1cc0f",
   "metadata": {},
   "outputs": [
    {
     "name": "stdout",
     "output_type": "stream",
     "text": [
      "['cat1', 'cat1', 'cat1', 'cat2']\n"
     ]
    }
   ],
   "source": [
    "catlist1 =['cat1', 'cat1', 'cat1']\n",
    "catlist1.append('cat2')\n",
    "print(catlist1)"
   ]
  },
  {
   "cell_type": "code",
   "execution_count": 11,
   "id": "87b8ad0a-2f83-4807-8ffa-040d26068ea0",
   "metadata": {},
   "outputs": [
    {
     "name": "stdout",
     "output_type": "stream",
     "text": [
      "[]\n"
     ]
    }
   ],
   "source": [
    "catlist2 =['cat1', 'cat1','cat1']\n",
    "catlist2.clear()\n",
    "print(catlist2)"
   ]
  },
  {
   "cell_type": "code",
   "execution_count": 12,
   "id": "18865808-5aa2-4940-9815-be7a91373ead",
   "metadata": {},
   "outputs": [
    {
     "name": "stdout",
     "output_type": "stream",
     "text": [
      "['cat1', 'cat1', 'cat1']\n"
     ]
    }
   ],
   "source": [
    "catlist3 = ['cat1', 'cat1', 'cat1']\n",
    "catlist3.copy()\n",
    "print(catlist3)"
   ]
  },
  {
   "cell_type": "code",
   "execution_count": 13,
   "id": "241514ce-2b3c-485a-9a86-8a51af54cc74",
   "metadata": {},
   "outputs": [
    {
     "name": "stdout",
     "output_type": "stream",
     "text": [
      "['cat1', 'cat1', 'cat2']\n"
     ]
    }
   ],
   "source": [
    "catlist4 = ['cat1', 'cat1', 'cat2']\n",
    "catlist4.count('cat1')\n",
    "print(catlist4)"
   ]
  },
  {
   "cell_type": "code",
   "execution_count": null,
   "id": "b15b6cd5-473a-40d1-9512-cdba6fe5e010",
   "metadata": {},
   "outputs": [],
   "source": [
    "catlist5 = ['cat1', 'cat1', 'cat2']\n",
    "catlist5.index('cat2')\n",
    "print(catlist5)\n"
   ]
  },
  {
   "cell_type": "code",
   "execution_count": 14,
   "id": "c01333d1-8336-414b-a9e7-ee9fa2d8cc01",
   "metadata": {},
   "outputs": [
    {
     "name": "stdout",
     "output_type": "stream",
     "text": [
      "['cat1', 'cat2', 'cat1', 'cat2']\n"
     ]
    }
   ],
   "source": [
    "catlist6 = ['cat1', 'cat1', 'cat2']\n",
    "catlist6.insert(1, 'cat2')\n",
    "print(catlist6)"
   ]
  },
  {
   "cell_type": "code",
   "execution_count": null,
   "id": "c8ba1253-e8d2-414d-b010-f7e317e82d14",
   "metadata": {},
   "outputs": [],
   "source": [
    "catlist7 = ['cat1', 'cat1', 'cat2']\n",
    "catlist7.pop(2)\n",
    "print(catlist7)\n"
   ]
  },
  {
   "cell_type": "code",
   "execution_count": null,
   "id": "8d6e4435-04d2-47b6-bd1b-89f01ce3bfa6",
   "metadata": {},
   "outputs": [],
   "source": [
    "catlist8 = ['cat1', 'cat1', 'cat2']\n",
    "catlist8.remove('cat2')\n",
    "print(catlist8)\n"
   ]
  },
  {
   "cell_type": "code",
   "execution_count": 15,
   "id": "9aa4f840-e6a9-444c-8000-146337b8a053",
   "metadata": {},
   "outputs": [
    {
     "name": "stdout",
     "output_type": "stream",
     "text": [
      "['cat2', 'cat1', 'cat1']\n"
     ]
    }
   ],
   "source": [
    "catlist9 = ['cat1', 'cat1', 'cat2']\n",
    "catlist9.reverse()\n",
    "print(catlist9)"
   ]
  },
  {
   "cell_type": "code",
   "execution_count": null,
   "id": "825b9e48-00ef-44a4-9698-46185e7cb109",
   "metadata": {},
   "outputs": [],
   "source": []
  }
 ],
 "metadata": {
  "kernelspec": {
   "display_name": "Python 3 (ipykernel)",
   "language": "python",
   "name": "python3"
  },
  "language_info": {
   "codemirror_mode": {
    "name": "ipython",
    "version": 3
   },
   "file_extension": ".py",
   "mimetype": "text/x-python",
   "name": "python",
   "nbconvert_exporter": "python",
   "pygments_lexer": "ipython3",
   "version": "3.13.7"
  }
 },
 "nbformat": 4,
 "nbformat_minor": 5
}
